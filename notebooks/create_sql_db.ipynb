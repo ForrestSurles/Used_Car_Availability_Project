{
 "cells": [
  {
   "cell_type": "code",
   "execution_count": 7,
   "source": [
    "import pandas as pd\n",
    "import sqlalchemy\n",
    "from sqlalchemy import inspect\n",
    "from pathlib import Path"
   ],
   "outputs": [],
   "metadata": {}
  },
  {
   "cell_type": "code",
   "execution_count": 9,
   "source": [
    "# Create a sqlite database\n",
    "database_connection_string = 'sqlite:///../Resources/combined_data.db'"
   ],
   "outputs": [],
   "metadata": {}
  },
  {
   "cell_type": "code",
   "execution_count": 10,
   "source": [
    "# Create an engine to interact with the database\n",
    "engine = sqlalchemy.create_engine(database_connection_string)"
   ],
   "outputs": [],
   "metadata": {}
  },
  {
   "cell_type": "code",
   "execution_count": 11,
   "source": [
    "\"\"\"CREATE\n",
    "\n",
    "The CREATE operation creates a new table in the database using the given DataFrame.\n",
    "The table is replaced by the new data if it already exists.\n",
    "\"\"\"\n",
    "def create_table(engine, table_name, table_data_df):\n",
    "    table_data_df.to_sql(table_name, engine, index=False, if_exists='replace')\n",
    "\"\"\"READ\n",
    "\n",
    "The READ operation will read the entire table from the database into a new DataFrame.\n",
    "Then it will print the DataFrame.\n",
    "\"\"\"\n",
    "def read_table(engine, table_name):\n",
    "    results_dataframe = pd.read_sql_table(table_name, con=engine)\n",
    "    print(f\"{table_name} Data:\")\n",
    "    print(results_dataframe)\n",
    "\"\"\"UPDATE\n",
    "    * In the `UPDATE` statement, include the `UPDATE`, `SET`, and `WHERE` SQL keywords.\n",
    "    * Include the statement that calls the engine to execute the `UPDATE` statement.\n",
    "\"\"\"\n",
    "def update_data(engine, table_name, column, old_value, new_value):\n",
    "    update_query=f\"\"\"\n",
    "    UPDATE {table_name}\n",
    "    SET {column} = {new_value}\n",
    "    WHERE {column} = {old_value}\n",
    "    \"\"\"\n",
    "    engine.execute(update_query)\n",
    "\"\"\"DELETE\n",
    "    * In the `DELETE` statement, include the `DELETE FROM` and `WHERE` SQL keywords.\n",
    "    * Include the statement that calls the engine to execute the `DELETE` statement.\n",
    "\"\"\"\n",
    "def delete_data(engine, table_name, column, value):\n",
    "    delete_query = f\"\"\"\n",
    "    DELETE FROM {table_name}\n",
    "    WHERE {column} = {value}\n",
    "    \"\"\"\n",
    "    engine.execute(delete_query)\n"
   ],
   "outputs": [],
   "metadata": {}
  }
 ],
 "metadata": {
  "orig_nbformat": 4,
  "language_info": {
   "name": "python",
   "version": "3.8.8",
   "mimetype": "text/x-python",
   "codemirror_mode": {
    "name": "ipython",
    "version": 3
   },
   "pygments_lexer": "ipython3",
   "nbconvert_exporter": "python",
   "file_extension": ".py"
  },
  "kernelspec": {
   "name": "python3",
   "display_name": "Python 3.8.8 64-bit ('SQL': conda)"
  },
  "interpreter": {
   "hash": "b7c9cf3d499d6c4c34b9783c2080ab3fb638343c34812a69f25a4ae2454107a2"
  }
 },
 "nbformat": 4,
 "nbformat_minor": 2
}