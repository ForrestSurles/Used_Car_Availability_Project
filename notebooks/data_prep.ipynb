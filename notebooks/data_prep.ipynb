{
 "cells": [
  {
   "cell_type": "markdown",
   "source": [
    "# Step 1: Import Libraries"
   ],
   "metadata": {}
  },
  {
   "cell_type": "code",
   "execution_count": 30,
   "source": [
    "# Import Libraries\n",
    "from pathlib import Path\n",
    "import pandas as pd"
   ],
   "outputs": [],
   "metadata": {}
  },
  {
   "cell_type": "markdown",
   "source": [
    "# Step 2: Import the csv's into DataFrames"
   ],
   "metadata": {}
  },
  {
   "cell_type": "markdown",
   "source": [
    "## 2a: Identify paths to raw data"
   ],
   "metadata": {}
  },
  {
   "cell_type": "code",
   "execution_count": 31,
   "source": [
    "# identify path to raw data\n",
    "csvpath_v5 = Path('./raw_data/vehicles_v5.csv')\n",
    "csvpath_v6 = Path('./raw_data/vehicles_v6.csv')\n",
    "csvpath_v7 = Path('./raw_data/vehicles_v7.csv')\n",
    "csvpath_v9 = Path('./raw_data/vehicles_v9.csv')\n",
    "csvpath_v10 = Path('./raw_data/vehicles_v10.csv')"
   ],
   "outputs": [],
   "metadata": {}
  },
  {
   "cell_type": "markdown",
   "source": [
    "## 2b: Load raw data into DataFrames"
   ],
   "metadata": {}
  },
  {
   "cell_type": "code",
   "execution_count": 32,
   "source": [
    "# load datasets into DataFrames\n",
    "vehicles_v5_df = pd.read_csv(csvpath_v5)\n",
    "vehicles_v6_df = pd.read_csv(csvpath_v6)\n",
    "vehicles_v7_df = pd.read_csv(csvpath_v7)\n",
    "vehicles_v9_df = pd.read_csv(csvpath_v9)\n",
    "vehicles_v10_df = pd.read_csv(csvpath_v10)"
   ],
   "outputs": [],
   "metadata": {}
  },
  {
   "cell_type": "markdown",
   "source": [
    "# Step 3: Prepare Data for Analysis"
   ],
   "metadata": {}
  },
  {
   "cell_type": "markdown",
   "source": [
    "## 3a: Create \"**uid**\" column for index by parsing \"**url**\" column"
   ],
   "metadata": {}
  },
  {
   "cell_type": "code",
   "execution_count": 33,
   "source": [
    "# create 'uid' column based on parse of 'url' column\n",
    "vehicles_v5_df['uid'] = vehicles_v5_df['url'].apply(lambda x: x.split('.html')[0][-10:])\n",
    "vehicles_v6_df['uid'] = vehicles_v6_df['url'].apply(lambda x: x.split('.html')[0][-10:])\n",
    "vehicles_v7_df['uid'] = vehicles_v7_df['url'].apply(lambda x: x.split('.html')[0][-10:])\n",
    "vehicles_v9_df['uid'] = vehicles_v9_df['url'].apply(lambda x: x.split('.html')[0][-10:])\n",
    "vehicles_v10_df['uid'] = vehicles_v10_df['url'].apply(lambda x: x.split('.html')[0][-10:])"
   ],
   "outputs": [],
   "metadata": {}
  },
  {
   "cell_type": "markdown",
   "source": [
    "## 3b: Drop columns irrelevant to analysis"
   ],
   "metadata": {}
  },
  {
   "cell_type": "code",
   "execution_count": 34,
   "source": [
    "# drop irrelevant columns from each version of the dataset\n",
    "\n",
    "# (oldest) VERSION 5: url/image_url\n",
    "vehicles_v5_df.drop(columns='url',inplace=True)\n",
    "vehicles_v5_df.drop(columns='image_url',inplace=True)\n",
    "\n",
    "# VERSION 6: url/city_url/image_url\n",
    "vehicles_v6_df.drop(columns='url',inplace=True)\n",
    "vehicles_v6_df.drop(columns='city_url',inplace=True)\n",
    "vehicles_v6_df.drop(columns='image_url',inplace=True)\n",
    "\n",
    "# VERSION 7: url/city_url/image_url\n",
    "vehicles_v7_df.drop(columns='url',inplace=True)\n",
    "vehicles_v7_df.drop(columns='city_url',inplace=True)\n",
    "vehicles_v7_df.drop(columns='image_url',inplace=True)\n",
    "\n",
    "# VERSION 9: id/url/region_url/image_url/county/state\n",
    "vehicles_v9_df.drop(columns='id',inplace=True)\n",
    "vehicles_v9_df.drop(columns='url',inplace=True)\n",
    "vehicles_v9_df.drop(columns='region_url',inplace=True)\n",
    "vehicles_v9_df.drop(columns='image_url',inplace=True)\n",
    "vehicles_v9_df.drop(columns='county',inplace=True)\n",
    "vehicles_v9_df.drop(columns='state',inplace=True)\n",
    "\n",
    "# VERSION 10: id/url/region_url/image_url/county/state\n",
    "vehicles_v10_df.drop(columns='id',inplace=True)\n",
    "vehicles_v10_df.drop(columns='url',inplace=True)\n",
    "vehicles_v10_df.drop(columns='region_url',inplace=True)\n",
    "vehicles_v10_df.drop(columns='image_url',inplace=True)\n",
    "vehicles_v10_df.drop(columns='county',inplace=True)\n",
    "vehicles_v10_df.drop(columns='state',inplace=True)"
   ],
   "outputs": [],
   "metadata": {}
  },
  {
   "cell_type": "markdown",
   "source": [
    "## 3c: Rename '**description**' column to '**desc**' in versions 9/10"
   ],
   "metadata": {}
  },
  {
   "cell_type": "code",
   "execution_count": 35,
   "source": [
    "# rename 'description' to 'desc'\n",
    "vehicles_v9_df = vehicles_v9_df.rename(columns={'description':'desc'})\n",
    "vehicles_v10_df = vehicles_v10_df.rename(columns={'description':'desc'})"
   ],
   "outputs": [],
   "metadata": {}
  },
  {
   "cell_type": "markdown",
   "source": [
    "## 3d: Set index to '**uid**' column"
   ],
   "metadata": {}
  },
  {
   "cell_type": "code",
   "execution_count": 36,
   "source": [
    "# set 'uid' as index\n",
    "vehicles_v5_df.set_index('uid', inplace=True)\n",
    "vehicles_v6_df.set_index('uid', inplace=True)\n",
    "vehicles_v7_df.set_index('uid', inplace=True)\n",
    "vehicles_v9_df.set_index('uid', inplace=True)\n",
    "vehicles_v10_df.set_index('uid', inplace=True)"
   ],
   "outputs": [],
   "metadata": {}
  },
  {
   "cell_type": "markdown",
   "source": [
    "# Step 4: Normalize columns across versions of the dataset"
   ],
   "metadata": {}
  },
  {
   "cell_type": "markdown",
   "source": [
    "## 4a: take stock of the current sizes of the versions of the dataset"
   ],
   "metadata": {}
  },
  {
   "cell_type": "code",
   "execution_count": 37,
   "source": [
    "print(f'VERSION 5:\\t{len(vehicles_v5_df.columns.values)} columns\\n\\n{vehicles_v5_df.columns.values}\\n')\n",
    "print(f'VERSION 6:\\t{len(vehicles_v6_df.columns.values)} columns\\n\\n{vehicles_v6_df.columns.values}\\n')\n",
    "print(f'VERSION 7:\\t{len(vehicles_v7_df.columns.values)} columns\\n\\n{vehicles_v7_df.columns.values}\\n')\n",
    "print(f'VERSION 9:\\t{len(vehicles_v9_df.columns.values)} columns\\n\\n{vehicles_v9_df.columns.values}\\n')\n",
    "print(f'VERSION 10:\\t{len(vehicles_v10_df.columns.values)} columns\\n\\n{vehicles_v10_df.columns.values}\\n')"
   ],
   "outputs": [
    {
     "output_type": "stream",
     "name": "stdout",
     "text": [
      "VERSION 5:\t18 columns\n",
      "\n",
      "['city' 'price' 'year' 'manufacturer' 'make' 'condition' 'cylinders'\n",
      " 'fuel' 'odometer' 'title_status' 'transmission' 'VIN' 'drive' 'size'\n",
      " 'type' 'paint_color' 'lat' 'long']\n",
      "\n",
      "VERSION 6:\t19 columns\n",
      "\n",
      "['city' 'price' 'year' 'manufacturer' 'make' 'condition' 'cylinders'\n",
      " 'fuel' 'odometer' 'title_status' 'transmission' 'VIN' 'drive' 'size'\n",
      " 'type' 'paint_color' 'desc' 'lat' 'long']\n",
      "\n",
      "VERSION 7:\t19 columns\n",
      "\n",
      "['city' 'price' 'year' 'manufacturer' 'make' 'condition' 'cylinders'\n",
      " 'fuel' 'odometer' 'title_status' 'transmission' 'VIN' 'drive' 'size'\n",
      " 'type' 'paint_color' 'desc' 'lat' 'long']\n",
      "\n",
      "VERSION 9:\t19 columns\n",
      "\n",
      "['region' 'price' 'year' 'manufacturer' 'model' 'condition' 'cylinders'\n",
      " 'fuel' 'odometer' 'title_status' 'transmission' 'VIN' 'drive' 'size'\n",
      " 'type' 'paint_color' 'desc' 'lat' 'long']\n",
      "\n",
      "VERSION 10:\t20 columns\n",
      "\n",
      "['region' 'price' 'year' 'manufacturer' 'model' 'condition' 'cylinders'\n",
      " 'fuel' 'odometer' 'title_status' 'transmission' 'VIN' 'drive' 'size'\n",
      " 'type' 'paint_color' 'desc' 'lat' 'long' 'posting_date']\n",
      "\n"
     ]
    }
   ],
   "metadata": {}
  },
  {
   "cell_type": "markdown",
   "source": [
    "## 4b: Add missing columns to versions of the dataset"
   ],
   "metadata": {}
  },
  {
   "cell_type": "code",
   "execution_count": 38,
   "source": [
    "# add timestamp from data versions were scraped\n",
    "\n",
    "# data was scraped in October of 2018, unlike other dates was posted online November 21st 2018;\n",
    "# assumption made to be last day of the month in October to cover entire month,\n",
    "# but still listed to be October since only post stating date in content description\n",
    "vehicles_v5_df['posting_date'] = '2018-10-31'\n",
    "vehicles_v5_df['desc'] = None\n",
    "vehicles_v6_df['posting_date'] = '2019-06-09'\n",
    "vehicles_v7_df['posting_date'] = '2019-07-14'\n",
    "vehicles_v9_df['posting_date'] = '2021-04-19'"
   ],
   "outputs": [],
   "metadata": {}
  },
  {
   "cell_type": "markdown",
   "source": [
    "### <span style='color:red'>**NOTES:**</span>"
   ],
   "metadata": {}
  },
  {
   "cell_type": "markdown",
   "source": [
    "<span style='color:cyan'>Generate Timestamp String:</span>\n",
    "\n",
    "- VERSION 5: date derived from content description [here](https://www.kaggle.com/austinreese/craigslist-carstrucks-data/version/5)\n",
    "\n",
    "- VERSION 6: date taken from version timestamp at [here](https://www.kaggle.com/austinreese/craigslist-carstrucks-data/version/6)\n",
    "\n",
    "- VERSION 7: date taken from version timestamp at [here](https://www.kaggle.com/austinreese/craigslist-carstrucks-data/version/7)\n",
    "\n",
    "- VERSION 9: date taken from version timestamp at [here](https://www.kaggle.com/austinreese/craigslist-carstrucks-data/version/9)\n",
    "\n",
    "<span style='color:yellow'>REMINDER: VERSION 8 didn't have any data associated with it</span>\n",
    "\n",
    "<span style='color:yellow'>REMINDER: VERSION 10 already contains 'posting_date' value for nearly all entries but the time needs to be stripped to include only the date</span>"
   ],
   "metadata": {}
  },
  {
   "cell_type": "markdown",
   "source": [
    "## 4c: Verify dimensions of each version of the dataset before creating 'raw_data_combined.csv'"
   ],
   "metadata": {}
  },
  {
   "cell_type": "code",
   "execution_count": 39,
   "source": [
    "print(f'VERSION 5:\\t{len(vehicles_v5_df.columns.values)} columns\\n\\n{vehicles_v5_df.columns.values}\\n')\n",
    "print(f'VERSION 6:\\t{len(vehicles_v6_df.columns.values)} columns\\n\\n{vehicles_v6_df.columns.values}\\n')\n",
    "print(f'VERSION 7:\\t{len(vehicles_v7_df.columns.values)} columns\\n\\n{vehicles_v7_df.columns.values}\\n')\n",
    "print(f'VERSION 9:\\t{len(vehicles_v9_df.columns.values)} columns\\n\\n{vehicles_v9_df.columns.values}\\n')\n",
    "print(f'VERSION 10:\\t{len(vehicles_v10_df.columns.values)} columns\\n\\n{vehicles_v10_df.columns.values}\\n')"
   ],
   "outputs": [
    {
     "output_type": "stream",
     "name": "stdout",
     "text": [
      "VERSION 5:\t20 columns\n",
      "\n",
      "['city' 'price' 'year' 'manufacturer' 'make' 'condition' 'cylinders'\n",
      " 'fuel' 'odometer' 'title_status' 'transmission' 'VIN' 'drive' 'size'\n",
      " 'type' 'paint_color' 'lat' 'long' 'posting_date' 'desc']\n",
      "\n",
      "VERSION 6:\t20 columns\n",
      "\n",
      "['city' 'price' 'year' 'manufacturer' 'make' 'condition' 'cylinders'\n",
      " 'fuel' 'odometer' 'title_status' 'transmission' 'VIN' 'drive' 'size'\n",
      " 'type' 'paint_color' 'desc' 'lat' 'long' 'posting_date']\n",
      "\n",
      "VERSION 7:\t20 columns\n",
      "\n",
      "['city' 'price' 'year' 'manufacturer' 'make' 'condition' 'cylinders'\n",
      " 'fuel' 'odometer' 'title_status' 'transmission' 'VIN' 'drive' 'size'\n",
      " 'type' 'paint_color' 'desc' 'lat' 'long' 'posting_date']\n",
      "\n",
      "VERSION 9:\t20 columns\n",
      "\n",
      "['region' 'price' 'year' 'manufacturer' 'model' 'condition' 'cylinders'\n",
      " 'fuel' 'odometer' 'title_status' 'transmission' 'VIN' 'drive' 'size'\n",
      " 'type' 'paint_color' 'desc' 'lat' 'long' 'posting_date']\n",
      "\n",
      "VERSION 10:\t20 columns\n",
      "\n",
      "['region' 'price' 'year' 'manufacturer' 'model' 'condition' 'cylinders'\n",
      " 'fuel' 'odometer' 'title_status' 'transmission' 'VIN' 'drive' 'size'\n",
      " 'type' 'paint_color' 'desc' 'lat' 'long' 'posting_date']\n",
      "\n"
     ]
    }
   ],
   "metadata": {}
  },
  {
   "cell_type": "markdown",
   "source": [
    "# Step 5: Output 'raw_data_combined.csv'"
   ],
   "metadata": {}
  },
  {
   "cell_type": "markdown",
   "source": [
    "## 5a: Combine versions of the dataset into one"
   ],
   "metadata": {}
  },
  {
   "cell_type": "code",
   "execution_count": 40,
   "source": [
    "# combine versions into single dataframe\n",
    "all_dataframes = [\n",
    "    vehicles_v5_df,\n",
    "    vehicles_v6_df,\n",
    "    vehicles_v7_df,\n",
    "    vehicles_v9_df,\n",
    "    vehicles_v10_df\n",
    "]\n",
    "\n",
    "raw_data_combined_df = pd.concat(all_dataframes, join='outer')"
   ],
   "outputs": [],
   "metadata": {}
  },
  {
   "cell_type": "code",
   "execution_count": 42,
   "source": [
    "raw_data_combined_df.head()"
   ],
   "outputs": [
    {
     "output_type": "execute_result",
     "data": {
      "text/plain": [
       "                 city  price    year   manufacturer            make  \\\n",
       "uid                                                                   \n",
       "6736984460  tricities   5000  1978.0           ford          bronco   \n",
       "6716121500  tricities   5000  2008.0          buick  lucerne cxl v6   \n",
       "6731405764  tricities  13500  2006.0            NaN        Pont GTO   \n",
       "6736958987  tricities   6200  2006.0  mercedes-benz             NaN   \n",
       "6736964819  tricities  37900  2016.0           ford            f350   \n",
       "\n",
       "            condition    cylinders    fuel  odometer title_status  ... drive  \\\n",
       "uid                                                                ...         \n",
       "6736984460        NaN          NaN     gas       NaN        clean  ...   NaN   \n",
       "6716121500   like new  6 cylinders     gas   51000.0        clean  ...   fwd   \n",
       "6731405764  excellent  8 cylinders     gas   93000.0        clean  ...   rwd   \n",
       "6736958987        NaN          NaN     gas       NaN      rebuilt  ...   NaN   \n",
       "6736964819  excellent  8 cylinders  diesel   70500.0        clean  ...   4wd   \n",
       "\n",
       "                 size   type paint_color        lat       long  posting_date  \\\n",
       "uid                                                                            \n",
       "6736984460        NaN    NaN         NaN  37.132840 -95.785580    2018-10-31   \n",
       "6716121500  full-size  sedan        grey  35.777999 -83.612533    2018-10-31   \n",
       "6731405764   mid-size  coupe         red  36.333900 -82.340800    2018-10-31   \n",
       "6736958987        NaN    NaN         NaN  36.000092 -84.018302    2018-10-31   \n",
       "6736964819        NaN  truck       white  36.272932 -82.537537    2018-10-31   \n",
       "\n",
       "            desc region model  \n",
       "uid                            \n",
       "6736984460  None    NaN   NaN  \n",
       "6716121500  None    NaN   NaN  \n",
       "6731405764  None    NaN   NaN  \n",
       "6736958987  None    NaN   NaN  \n",
       "6736964819  None    NaN   NaN  \n",
       "\n",
       "[5 rows x 22 columns]"
      ],
      "text/html": [
       "<div>\n",
       "<style scoped>\n",
       "    .dataframe tbody tr th:only-of-type {\n",
       "        vertical-align: middle;\n",
       "    }\n",
       "\n",
       "    .dataframe tbody tr th {\n",
       "        vertical-align: top;\n",
       "    }\n",
       "\n",
       "    .dataframe thead th {\n",
       "        text-align: right;\n",
       "    }\n",
       "</style>\n",
       "<table border=\"1\" class=\"dataframe\">\n",
       "  <thead>\n",
       "    <tr style=\"text-align: right;\">\n",
       "      <th></th>\n",
       "      <th>city</th>\n",
       "      <th>price</th>\n",
       "      <th>year</th>\n",
       "      <th>manufacturer</th>\n",
       "      <th>make</th>\n",
       "      <th>condition</th>\n",
       "      <th>cylinders</th>\n",
       "      <th>fuel</th>\n",
       "      <th>odometer</th>\n",
       "      <th>title_status</th>\n",
       "      <th>...</th>\n",
       "      <th>drive</th>\n",
       "      <th>size</th>\n",
       "      <th>type</th>\n",
       "      <th>paint_color</th>\n",
       "      <th>lat</th>\n",
       "      <th>long</th>\n",
       "      <th>posting_date</th>\n",
       "      <th>desc</th>\n",
       "      <th>region</th>\n",
       "      <th>model</th>\n",
       "    </tr>\n",
       "    <tr>\n",
       "      <th>uid</th>\n",
       "      <th></th>\n",
       "      <th></th>\n",
       "      <th></th>\n",
       "      <th></th>\n",
       "      <th></th>\n",
       "      <th></th>\n",
       "      <th></th>\n",
       "      <th></th>\n",
       "      <th></th>\n",
       "      <th></th>\n",
       "      <th></th>\n",
       "      <th></th>\n",
       "      <th></th>\n",
       "      <th></th>\n",
       "      <th></th>\n",
       "      <th></th>\n",
       "      <th></th>\n",
       "      <th></th>\n",
       "      <th></th>\n",
       "      <th></th>\n",
       "      <th></th>\n",
       "    </tr>\n",
       "  </thead>\n",
       "  <tbody>\n",
       "    <tr>\n",
       "      <th>6736984460</th>\n",
       "      <td>tricities</td>\n",
       "      <td>5000</td>\n",
       "      <td>1978.0</td>\n",
       "      <td>ford</td>\n",
       "      <td>bronco</td>\n",
       "      <td>NaN</td>\n",
       "      <td>NaN</td>\n",
       "      <td>gas</td>\n",
       "      <td>NaN</td>\n",
       "      <td>clean</td>\n",
       "      <td>...</td>\n",
       "      <td>NaN</td>\n",
       "      <td>NaN</td>\n",
       "      <td>NaN</td>\n",
       "      <td>NaN</td>\n",
       "      <td>37.132840</td>\n",
       "      <td>-95.785580</td>\n",
       "      <td>2018-10-31</td>\n",
       "      <td>None</td>\n",
       "      <td>NaN</td>\n",
       "      <td>NaN</td>\n",
       "    </tr>\n",
       "    <tr>\n",
       "      <th>6716121500</th>\n",
       "      <td>tricities</td>\n",
       "      <td>5000</td>\n",
       "      <td>2008.0</td>\n",
       "      <td>buick</td>\n",
       "      <td>lucerne cxl v6</td>\n",
       "      <td>like new</td>\n",
       "      <td>6 cylinders</td>\n",
       "      <td>gas</td>\n",
       "      <td>51000.0</td>\n",
       "      <td>clean</td>\n",
       "      <td>...</td>\n",
       "      <td>fwd</td>\n",
       "      <td>full-size</td>\n",
       "      <td>sedan</td>\n",
       "      <td>grey</td>\n",
       "      <td>35.777999</td>\n",
       "      <td>-83.612533</td>\n",
       "      <td>2018-10-31</td>\n",
       "      <td>None</td>\n",
       "      <td>NaN</td>\n",
       "      <td>NaN</td>\n",
       "    </tr>\n",
       "    <tr>\n",
       "      <th>6731405764</th>\n",
       "      <td>tricities</td>\n",
       "      <td>13500</td>\n",
       "      <td>2006.0</td>\n",
       "      <td>NaN</td>\n",
       "      <td>Pont GTO</td>\n",
       "      <td>excellent</td>\n",
       "      <td>8 cylinders</td>\n",
       "      <td>gas</td>\n",
       "      <td>93000.0</td>\n",
       "      <td>clean</td>\n",
       "      <td>...</td>\n",
       "      <td>rwd</td>\n",
       "      <td>mid-size</td>\n",
       "      <td>coupe</td>\n",
       "      <td>red</td>\n",
       "      <td>36.333900</td>\n",
       "      <td>-82.340800</td>\n",
       "      <td>2018-10-31</td>\n",
       "      <td>None</td>\n",
       "      <td>NaN</td>\n",
       "      <td>NaN</td>\n",
       "    </tr>\n",
       "    <tr>\n",
       "      <th>6736958987</th>\n",
       "      <td>tricities</td>\n",
       "      <td>6200</td>\n",
       "      <td>2006.0</td>\n",
       "      <td>mercedes-benz</td>\n",
       "      <td>NaN</td>\n",
       "      <td>NaN</td>\n",
       "      <td>NaN</td>\n",
       "      <td>gas</td>\n",
       "      <td>NaN</td>\n",
       "      <td>rebuilt</td>\n",
       "      <td>...</td>\n",
       "      <td>NaN</td>\n",
       "      <td>NaN</td>\n",
       "      <td>NaN</td>\n",
       "      <td>NaN</td>\n",
       "      <td>36.000092</td>\n",
       "      <td>-84.018302</td>\n",
       "      <td>2018-10-31</td>\n",
       "      <td>None</td>\n",
       "      <td>NaN</td>\n",
       "      <td>NaN</td>\n",
       "    </tr>\n",
       "    <tr>\n",
       "      <th>6736964819</th>\n",
       "      <td>tricities</td>\n",
       "      <td>37900</td>\n",
       "      <td>2016.0</td>\n",
       "      <td>ford</td>\n",
       "      <td>f350</td>\n",
       "      <td>excellent</td>\n",
       "      <td>8 cylinders</td>\n",
       "      <td>diesel</td>\n",
       "      <td>70500.0</td>\n",
       "      <td>clean</td>\n",
       "      <td>...</td>\n",
       "      <td>4wd</td>\n",
       "      <td>NaN</td>\n",
       "      <td>truck</td>\n",
       "      <td>white</td>\n",
       "      <td>36.272932</td>\n",
       "      <td>-82.537537</td>\n",
       "      <td>2018-10-31</td>\n",
       "      <td>None</td>\n",
       "      <td>NaN</td>\n",
       "      <td>NaN</td>\n",
       "    </tr>\n",
       "  </tbody>\n",
       "</table>\n",
       "<p>5 rows × 22 columns</p>\n",
       "</div>"
      ]
     },
     "metadata": {},
     "execution_count": 42
    }
   ],
   "metadata": {}
  },
  {
   "cell_type": "markdown",
   "source": [
    "## 5c: Write combined dataframe to csv"
   ],
   "metadata": {}
  },
  {
   "cell_type": "code",
   "execution_count": 43,
   "source": [
    "raw_data_combined_df.to_csv(\n",
    "    Path('./Resources/raw_data_combined_v2.csv'),\n",
    "    index_label='uid'\n",
    ")"
   ],
   "outputs": [],
   "metadata": {}
  }
 ],
 "metadata": {
  "orig_nbformat": 4,
  "language_info": {
   "name": "python",
   "version": "3.8.8",
   "mimetype": "text/x-python",
   "codemirror_mode": {
    "name": "ipython",
    "version": 3
   },
   "pygments_lexer": "ipython3",
   "nbconvert_exporter": "python",
   "file_extension": ".py"
  },
  "kernelspec": {
   "name": "python3",
   "display_name": "Python 3.8.8 64-bit ('PyViz': conda)"
  },
  "interpreter": {
   "hash": "2cee6143c01626440da4de5fd7551af32d1b874c0d79c2a9f916ab53b14c1cd6"
  }
 },
 "nbformat": 4,
 "nbformat_minor": 2
}