{
 "cells": [
  {
   "cell_type": "markdown",
   "source": [
    "# Parse the Description Column for Filling in Missing Data"
   ],
   "metadata": {}
  },
  {
   "cell_type": "markdown",
   "source": [
    "## <font color=MediumSlateBlue>1) Import Libraries & File</font>"
   ],
   "metadata": {}
  },
  {
   "cell_type": "markdown",
   "source": [
    "### <font color=PaleGreen>1a) Import Libraries</font>"
   ],
   "metadata": {}
  },
  {
   "cell_type": "code",
   "execution_count": 1,
   "source": [
    "import pandas as pd\n",
    "from pathlib import Path"
   ],
   "outputs": [],
   "metadata": {}
  },
  {
   "cell_type": "markdown",
   "source": [
    "### <font color=PaleGreen>1b) Import Data Subset File</font>"
   ],
   "metadata": {}
  },
  {
   "cell_type": "code",
   "execution_count": 2,
   "source": [
    "# full_subset_df = pd.read_csv(Path('./Resources/subset_for_testing.csv'), index_col='uid')\n",
    "full_subset_df = pd.read_csv(\n",
    "    Path('./Resources/subset_for_testing.csv'),\n",
    "    index_col='uid',\n",
    "    dtype={'desc':'object'}\n",
    ")"
   ],
   "outputs": [],
   "metadata": {}
  },
  {
   "cell_type": "markdown",
   "source": [
    "### <font color=PaleGreen>1d) Review DataFrame from Import</font>"
   ],
   "metadata": {}
  },
  {
   "cell_type": "code",
   "execution_count": 3,
   "source": [
    "print(f'Column Names:\\n\\n{full_subset_df.columns.values}\\n')\n",
    "print(f'Column Types:\\n\\n{full_subset_df.dtypes}\\n')\n",
    "print(f'Review Subset Data:\\n\\n{full_subset_df}')"
   ],
   "outputs": [
    {
     "output_type": "stream",
     "name": "stdout",
     "text": [
      "Column Names:\n",
      "\n",
      "['city' 'price' 'year' 'manufacturer' 'make' 'condition' 'cylinders'\n",
      " 'fuel' 'odometer' 'title_status' 'transmission' 'VIN' 'drive' 'size'\n",
      " 'type' 'paint_color' 'lat' 'long' 'posting_date' 'desc' 'region' 'model']\n",
      "\n",
      "Column Types:\n",
      "\n",
      "city            float64\n",
      "price             int64\n",
      "year            float64\n",
      "manufacturer     object\n",
      "make            float64\n",
      "condition        object\n",
      "cylinders        object\n",
      "fuel             object\n",
      "odometer        float64\n",
      "title_status     object\n",
      "transmission     object\n",
      "VIN              object\n",
      "drive            object\n",
      "size             object\n",
      "type             object\n",
      "paint_color      object\n",
      "lat             float64\n",
      "long            float64\n",
      "posting_date     object\n",
      "desc             object\n",
      "region           object\n",
      "model            object\n",
      "dtype: object\n",
      "\n",
      "Review Subset Data:\n",
      "\n",
      "            city  price    year manufacturer  make condition    cylinders  \\\n",
      "uid                                                                         \n",
      "7313710266   NaN   7550  2015.0        dodge   NaN       NaN  4 cylinders   \n",
      "7313702408   NaN  13950  2017.0       nissan   NaN       NaN  4 cylinders   \n",
      "7313679442   NaN  11500  2012.0    chevrolet   NaN      good  8 cylinders   \n",
      "7313673342   NaN   8000  2002.0         ford   NaN  like new  8 cylinders   \n",
      "7313667324   NaN   4950  2012.0        dodge   NaN       NaN  6 cylinders   \n",
      "...          ...    ...     ...          ...   ...       ...          ...   \n",
      "7301591192   NaN  23590  2019.0       nissan   NaN      good  6 cylinders   \n",
      "7301591187   NaN  30590  2020.0        volvo   NaN      good          NaN   \n",
      "7301591147   NaN  34990  2020.0     cadillac   NaN      good          NaN   \n",
      "7301591140   NaN  28990  2018.0        lexus   NaN      good  6 cylinders   \n",
      "7301591129   NaN  30590  2019.0          bmw   NaN      good          NaN   \n",
      "\n",
      "              fuel  odometer title_status  ... drive       size       type  \\\n",
      "uid                                        ...                               \n",
      "7313710266     gas   73269.0        clean  ...   fwd        NaN      sedan   \n",
      "7313702408     gas   28709.0      rebuilt  ...   4wd        NaN        SUV   \n",
      "7313679442     gas  175102.0      rebuilt  ...   4wd  full-size      truck   \n",
      "7313673342     gas  139500.0        clean  ...   4wd  full-size      truck   \n",
      "7313667324     gas  142761.0        clean  ...   fwd        NaN        van   \n",
      "...            ...       ...          ...  ...   ...        ...        ...   \n",
      "7301591192     gas   32226.0        clean  ...   fwd        NaN      sedan   \n",
      "7301591187     gas   12029.0        clean  ...   fwd        NaN      sedan   \n",
      "7301591147  diesel    4174.0        clean  ...   NaN        NaN  hatchback   \n",
      "7301591140     gas   30112.0        clean  ...   fwd        NaN      sedan   \n",
      "7301591129     gas   22716.0        clean  ...   rwd        NaN      coupe   \n",
      "\n",
      "           paint_color        lat        long              posting_date  \\\n",
      "uid                                                                       \n",
      "7313710266        grey  40.745755 -111.939740  2021-04-27T23:45:57-0600   \n",
      "7313702408       black  40.745787 -111.939869  2021-04-27T22:45:22-0600   \n",
      "7313679442       black  41.888456 -107.495083  2021-04-27T20:54:00-0600   \n",
      "7313673342       white  41.439000 -105.801000  2021-04-27T20:31:22-0600   \n",
      "7313667324       black  40.745820 -111.939998  2021-04-27T20:10:23-0600   \n",
      "...                ...        ...         ...                       ...   \n",
      "7301591192         NaN  33.786500  -84.445400  2021-04-04T03:21:31-0600   \n",
      "7301591187         red  33.786500  -84.445400  2021-04-04T03:21:29-0600   \n",
      "7301591147       white  33.779214  -84.411811  2021-04-04T03:21:17-0600   \n",
      "7301591140      silver  33.786500  -84.445400  2021-04-04T03:21:11-0600   \n",
      "7301591129         NaN  33.779214  -84.411811  2021-04-04T03:21:07-0600   \n",
      "\n",
      "                                                         desc   region  \\\n",
      "uid                                                                      \n",
      "7313710266  Engine: 4 Cylinders Transmission: Automatic Ti...  wyoming   \n",
      "7313702408  Engine: 4 Cylinders Transmission: Automatic Ti...  wyoming   \n",
      "7313679442                 Well taken care of truck for sale.  wyoming   \n",
      "7313673342  Very clean and straight plow truck. All record...  wyoming   \n",
      "7313667324  Engine: 6 Cylinders Transmission: Automatic Ti...  wyoming   \n",
      "...                                                       ...      ...   \n",
      "7301591192  Carvana is the safer way to buy a car During t...  wyoming   \n",
      "7301591187  Carvana is the safer way to buy a car During t...  wyoming   \n",
      "7301591147  Carvana is the safer way to buy a car During t...  wyoming   \n",
      "7301591140  Carvana is the safer way to buy a car During t...  wyoming   \n",
      "7301591129  Carvana is the safer way to buy a car During t...  wyoming   \n",
      "\n",
      "                               model  \n",
      "uid                                   \n",
      "7313710266                  dart sxt  \n",
      "7313702408                 rogue awd  \n",
      "7313679442                 silverado  \n",
      "7313673342                     f-150  \n",
      "7313667324             grand caravan  \n",
      "...                              ...  \n",
      "7301591192         maxima s sedan 4d  \n",
      "7301591187  s60 t5 momentum sedan 4d  \n",
      "7301591147          xt4 sport suv 4d  \n",
      "7301591140           es 350 sedan 4d  \n",
      "7301591129  4 series 430i gran coupe  \n",
      "\n",
      "[500 rows x 22 columns]\n"
     ]
    }
   ],
   "metadata": {}
  },
  {
   "cell_type": "markdown",
   "source": [
    "## <font color=MediumSlateBlue>2) Create List of Word Occurrences from the `desc` Column</font>"
   ],
   "metadata": {}
  },
  {
   "cell_type": "markdown",
   "source": [
    "### <font color=PaleGreen>2a) Isolate the `desc` Column</font>"
   ],
   "metadata": {}
  },
  {
   "cell_type": "code",
   "execution_count": 4,
   "source": [
    "desc_df = full_subset_df['desc']"
   ],
   "outputs": [],
   "metadata": {}
  },
  {
   "cell_type": "markdown",
   "source": [
    "### <font color=PaleGreen>2b) Review the `desc` Column</font>"
   ],
   "metadata": {}
  },
  {
   "cell_type": "code",
   "execution_count": 6,
   "source": [
    "desc_df"
   ],
   "outputs": [
    {
     "output_type": "execute_result",
     "data": {
      "text/plain": [
       "uid\n",
       "7313710266    Engine: 4 Cylinders Transmission: Automatic Ti...\n",
       "7313702408    Engine: 4 Cylinders Transmission: Automatic Ti...\n",
       "7313679442                   Well taken care of truck for sale.\n",
       "7313673342    Very clean and straight plow truck. All record...\n",
       "7313667324    Engine: 6 Cylinders Transmission: Automatic Ti...\n",
       "                                    ...                        \n",
       "7301591192    Carvana is the safer way to buy a car During t...\n",
       "7301591187    Carvana is the safer way to buy a car During t...\n",
       "7301591147    Carvana is the safer way to buy a car During t...\n",
       "7301591140    Carvana is the safer way to buy a car During t...\n",
       "7301591129    Carvana is the safer way to buy a car During t...\n",
       "Name: desc, Length: 500, dtype: object"
      ]
     },
     "metadata": {},
     "execution_count": 6
    }
   ],
   "metadata": {}
  }
 ],
 "metadata": {
  "orig_nbformat": 4,
  "language_info": {
   "name": "python",
   "version": "3.8.8",
   "mimetype": "text/x-python",
   "codemirror_mode": {
    "name": "ipython",
    "version": 3
   },
   "pygments_lexer": "ipython3",
   "nbconvert_exporter": "python",
   "file_extension": ".py"
  },
  "kernelspec": {
   "name": "python3",
   "display_name": "Python 3.8.8 64-bit ('SQL': conda)"
  },
  "interpreter": {
   "hash": "b7c9cf3d499d6c4c34b9783c2080ab3fb638343c34812a69f25a4ae2454107a2"
  }
 },
 "nbformat": 4,
 "nbformat_minor": 2
}