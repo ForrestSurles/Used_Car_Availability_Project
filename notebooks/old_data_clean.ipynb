{
 "cells": [
  {
   "cell_type": "code",
   "execution_count": 19,
   "source": [
    "import pandas as pd\n",
    "from pathlib import Path"
   ],
   "outputs": [],
   "metadata": {}
  },
  {
   "cell_type": "code",
   "execution_count": 20,
   "source": [
    "csvpath = Path('../Resources/vehicles_mod.csv')"
   ],
   "outputs": [],
   "metadata": {}
  },
  {
   "cell_type": "code",
   "execution_count": 21,
   "source": [
    "combined_df = pd.read_csv(\n",
    "    csvpath,\n",
    "    index_col='posting_date',\n",
    "    infer_datetime_format=True\n",
    ")"
   ],
   "outputs": [],
   "metadata": {}
  },
  {
   "cell_type": "code",
   "execution_count": 22,
   "source": [
    "combined_df.isnull().mean()"
   ],
   "outputs": [
    {
     "output_type": "execute_result",
     "data": {
      "text/plain": [
       "id              0.0\n",
       "region          0.0\n",
       "price           0.0\n",
       "year            0.0\n",
       "manufacturer    0.0\n",
       "model           0.0\n",
       "condition       0.0\n",
       "fuel            0.0\n",
       "odometer        0.0\n",
       "transmission    0.0\n",
       "drive           0.0\n",
       "size            0.0\n",
       "type            0.0\n",
       "paint_color     0.0\n",
       "state           0.0\n",
       "lat             0.0\n",
       "long            0.0\n",
       "dtype: float64"
      ]
     },
     "metadata": {},
     "execution_count": 22
    }
   ],
   "metadata": {}
  },
  {
   "cell_type": "code",
   "execution_count": 23,
   "source": [
    "print(combined_df['lat'].isnull().sum())\n",
    "print(combined_df['long'].isnull().sum())\n",
    "print(combined_df['price'].isnull().sum())\n",
    "print(combined_df['model'].isnull().sum())\n",
    "print(combined_df['condition'].isnull().sum())\n",
    "print(combined_df['manufacturer'].isnull().sum())"
   ],
   "outputs": [
    {
     "output_type": "stream",
     "name": "stdout",
     "text": [
      "0\n",
      "0\n",
      "0\n",
      "0\n",
      "0\n",
      "0\n"
     ]
    }
   ],
   "metadata": {}
  },
  {
   "cell_type": "markdown",
   "source": [
    "# Assumptions made / Next steps"
   ],
   "metadata": {}
  },
  {
   "cell_type": "markdown",
   "source": [
    "1. Based upon combination of **year** & **odometer** reading make assupmtion on condition to fill in the ~43% of entries missing a condition\n",
    "    - Condition Framework\n",
    "        - If older year and high mileage\n",
    "            - condition = oldest (worst)\n",
    "        - If newer year and low mileage\n",
    "            - condition = newest (best)\n",
    "        - in between? (good vs fair) (std/variance)\n",
    "2. Both make/manufacturer blank?\n",
    "3. Need to drop non-continental 48\n",
    "\n",
    "Forrest: parsing/categorizing the odometer for condition\n",
    "\n",
    "Vish: parsing desc to help fill in missing make values"
   ],
   "metadata": {}
  },
  {
   "cell_type": "code",
   "execution_count": 24,
   "source": [
    "odometer_range_df = combined_df.loc[\n",
    "    (combined_df['odometer'] >= 75000) &\n",
    "    (combined_df['odometer'] < 100000)\n",
    "]"
   ],
   "outputs": [],
   "metadata": {}
  },
  {
   "cell_type": "code",
   "execution_count": 29,
   "source": [
    "grouped_multiple = odometer_range_df.groupby(['region'])"
   ],
   "outputs": [],
   "metadata": {}
  }
 ],
 "metadata": {
  "orig_nbformat": 4,
  "language_info": {
   "name": "python",
   "version": "3.8.8",
   "mimetype": "text/x-python",
   "codemirror_mode": {
    "name": "ipython",
    "version": 3
   },
   "pygments_lexer": "ipython3",
   "nbconvert_exporter": "python",
   "file_extension": ".py"
  },
  "kernelspec": {
   "name": "python3",
   "display_name": "Python 3.8.8 64-bit ('SQL': conda)"
  },
  "interpreter": {
   "hash": "b7c9cf3d499d6c4c34b9783c2080ab3fb638343c34812a69f25a4ae2454107a2"
  }
 },
 "nbformat": 4,
 "nbformat_minor": 2
}