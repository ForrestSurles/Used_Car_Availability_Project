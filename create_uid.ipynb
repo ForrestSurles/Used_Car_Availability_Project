{
 "cells": [
  {
   "cell_type": "markdown",
   "source": [
    "# Step 1: Import Libraries"
   ],
   "metadata": {}
  },
  {
   "cell_type": "code",
   "execution_count": 5,
   "source": [
    "# Import Libraries\n",
    "from pathlib import Path\n",
    "import pandas as pd"
   ],
   "outputs": [],
   "metadata": {}
  },
  {
   "cell_type": "markdown",
   "source": [
    "# Step 2: Import the csv's into DataFrames"
   ],
   "metadata": {}
  },
  {
   "cell_type": "code",
   "execution_count": 6,
   "source": [
    "# identify path to raw data\n",
    "csvpath_v5 = Path('./raw_data/vehicles_v5.csv')\n",
    "csvpath_v6 = Path('./raw_data/vehicles_v6.csv')\n",
    "csvpath_v7 = Path('./raw_data/vehicles_v7.csv')\n",
    "csvpath_v9 = Path('./raw_data/vehicles_v9.csv')\n",
    "csvpath_v10 = Path('./raw_data/vehicles_v10.csv')"
   ],
   "outputs": [],
   "metadata": {}
  },
  {
   "cell_type": "code",
   "execution_count": 7,
   "source": [
    "# load datasets into DataFrames\n",
    "vehicles_v5_df = pd.read_csv(csvpath_v5)\n",
    "vehicles_v6_df = pd.read_csv(csvpath_v6)\n",
    "vehicles_v7_df = pd.read_csv(csvpath_v7)\n",
    "vehicles_v9_df = pd.read_csv(csvpath_v9)\n",
    "vehicles_v10_df = pd.read_csv(csvpath_v10)"
   ],
   "outputs": [],
   "metadata": {}
  },
  {
   "cell_type": "markdown",
   "source": [
    "# Step 3: Prepare Data for Analysis"
   ],
   "metadata": {}
  },
  {
   "cell_type": "markdown",
   "source": [
    "## Step 3a: Create \"**uid**\" column for index by parsing \"**url**\" column"
   ],
   "metadata": {}
  },
  {
   "cell_type": "code",
   "execution_count": null,
   "source": [
    "# create 'uid' column based on parse of 'url' column\n",
    "vehicles_v5_df['uid'] = vehicles_v5_df['url'].apply(lambda x: x.split('.html')[0][-10:])\n",
    "vehicles_v6_df['uid'] = vehicles_v6_df['url'].apply(lambda x: x.split('.html')[0][-10:])\n",
    "vehicles_v7_df['uid'] = vehicles_v7_df['url'].apply(lambda x: x.split('.html')[0][-10:])\n",
    "vehicles_v9_df['uid'] = vehicles_v9_df['url'].apply(lambda x: x.split('.html')[0][-10:])\n",
    "vehicles_v10_df['uid'] = vehicles_v10_df['url'].apply(lambda x: x.split('.html')[0][-10:])"
   ],
   "outputs": [],
   "metadata": {}
  },
  {
   "cell_type": "markdown",
   "source": [
    "## Step 3b: Drop columns irrelevant to analysis"
   ],
   "metadata": {}
  },
  {
   "cell_type": "code",
   "execution_count": null,
   "source": [
    "# drop irrelevant columns from each version of the dataset\n",
    "\n",
    "# (oldest) VERSION 5: url/image_url\n",
    "vehicles_v5_df.drop(columns='url',inplace=True)\n",
    "vehicles_v5_df.drop(columns='image_url',inplace=True)\n",
    "\n",
    "# VERSION 6: url/city_url/image_url\n",
    "vehicles_v6_df.drop(columns='url',inplace=True)\n",
    "vehicles_v6_df.drop(columns='city_url',inplace=True)\n",
    "vehicles_v6_df.drop(columns='image_url',inplace=True)\n",
    "\n",
    "# VERSION 7: url/city_url/image_url\n",
    "vehicles_v7_df.drop(columns='url',inplace=True)\n",
    "vehicles_v7_df.drop(columns='city_url',inplace=True)\n",
    "vehicles_v7_df.drop(columns='image_url',inplace=True)\n",
    "\n",
    "# VERSION 9: id/url/region_url/image_url/county/state\n",
    "vehicles_v9_df.drop(columns='id',inplace=True)\n",
    "vehicles_v9_df.drop(columns='url',inplace=True)\n",
    "vehicles_v9_df.drop(columns='region_url',inplace=True)\n",
    "vehicles_v9_df.drop(columns='image_url',inplace=True)\n",
    "vehicles_v9_df.drop(columns='county',inplace=True)\n",
    "vehicles_v9_df.drop(columns='state',inplace=True)\n",
    "\n",
    "# VERSION 10: id/url/region_url/image_url/county/state\n",
    "vehicles_v10_df.drop(columns='id',inplace=True)\n",
    "vehicles_v10_df.drop(columns='url',inplace=True)\n",
    "vehicles_v10_df.drop(columns='region_url',inplace=True)\n",
    "vehicles_v10_df.drop(columns='image_url',inplace=True)\n",
    "vehicles_v10_df.drop(columns='county',inplace=True)\n",
    "vehicles_v10_df.drop(columns='state',inplace=True)"
   ],
   "outputs": [],
   "metadata": {}
  },
  {
   "cell_type": "markdown",
   "source": [
    "## Step 3c: Rename '**description**' column to '**desc**' in versions 9/10"
   ],
   "metadata": {}
  },
  {
   "cell_type": "code",
   "execution_count": null,
   "source": [
    "# rename 'description' to 'desc'\n",
    "vehicles_v9_df = vehicles_v9_df.rename(columns={'description':'desc'})\n",
    "vehicles_v10_df = vehicles_v10_df.rename(columns={'description':'desc'})"
   ],
   "outputs": [],
   "metadata": {}
  },
  {
   "cell_type": "markdown",
   "source": [
    "## Step 3d: Set index to '**uid**' column"
   ],
   "metadata": {}
  },
  {
   "cell_type": "code",
   "execution_count": null,
   "source": [
    "# set 'uid' as index\n",
    "vehicles_v5_df.set_index('uid')\n",
    "vehicles_v6_df.set_index('uid')\n",
    "vehicles_v7_df.set_index('uid')\n",
    "vehicles_v9_df.set_index('uid')\n",
    "vehicles_v10_df.set_index('uid')"
   ],
   "outputs": [],
   "metadata": {}
  },
  {
   "cell_type": "markdown",
   "source": [
    "## Step 3e: Verify column names for each version of the dataset"
   ],
   "metadata": {}
  },
  {
   "cell_type": "code",
   "execution_count": 79,
   "source": [
    "print(f'VERSION 5:\\n{vehicles_v5_df.columns.values}')\n",
    "print(f'VERSION 6:\\n{vehicles_v6_df.columns.values}')\n",
    "print(f'VERSION 7:\\n{vehicles_v7_df.columns.values}')\n",
    "print(f'VERSION 9:\\n{vehicles_v9_df.columns.values}')\n",
    "print(f'VERSION 10:\\n{vehicles_v10_df.columns.values}')"
   ],
   "outputs": [
    {
     "output_type": "stream",
     "name": "stdout",
     "text": [
      "VERSION 5:\n",
      "['city' 'price' 'year' 'manufacturer' 'make' 'condition' 'cylinders'\n",
      " 'fuel' 'odometer' 'title_status' 'transmission' 'VIN' 'drive' 'size'\n",
      " 'type' 'paint_color' 'lat' 'long' 'uid']\n",
      "VERSION 6:\n",
      "['city' 'price' 'year' 'manufacturer' 'make' 'condition' 'cylinders'\n",
      " 'fuel' 'odometer' 'title_status' 'transmission' 'VIN' 'drive' 'size'\n",
      " 'type' 'paint_color' 'desc' 'lat' 'long' 'uid']\n",
      "VERSION 7:\n",
      "['city' 'price' 'year' 'manufacturer' 'make' 'condition' 'cylinders'\n",
      " 'fuel' 'odometer' 'title_status' 'transmission' 'VIN' 'drive' 'size'\n",
      " 'type' 'paint_color' 'desc' 'lat' 'long' 'uid']\n",
      "VERSION 9:\n",
      "['region' 'price' 'year' 'manufacturer' 'model' 'condition' 'cylinders'\n",
      " 'fuel' 'odometer' 'title_status' 'transmission' 'VIN' 'drive' 'size'\n",
      " 'type' 'paint_color' 'description' 'lat' 'long' 'uid']\n",
      "VERSION 10:\n",
      "['region' 'price' 'year' 'manufacturer' 'model' 'condition' 'cylinders'\n",
      " 'fuel' 'odometer' 'title_status' 'transmission' 'VIN' 'drive' 'size'\n",
      " 'type' 'paint_color' 'description' 'lat' 'long' 'posting_date' 'uid']\n"
     ]
    }
   ],
   "metadata": {}
  },
  {
   "cell_type": "markdown",
   "source": [
    "<span style='color:cyan'>generate timestamp string for each of the datasets that do not already contain one</span>\n",
    "\n",
    "- ```vehicles_v5_df['posting_date'] = '2018-10-31'```\n",
    "    - date derived from content description at [link](https://www.kaggle.com/austinreese/craigslist-carstrucks-data/version/5)\n",
    "\n",
    "- ```vehicles_v6_df['posting_date'] = '2019-06-09'```\n",
    "    - date taken from version timestamp at [link](https://www.kaggle.com/austinreese/craigslist-carstrucks-data/version/6)\n",
    "\n",
    "- ```vehicles_v7_df['posting_date'] = '2019-07-14'```\n",
    "    - date taken from version timestamp at [link](https://www.kaggle.com/austinreese/craigslist-carstrucks-data/version/7)\n",
    "\n",
    "<span style='color:cyan'>reminder that v8 didn't have any data associated with it's page</span>\n",
    "\n",
    "- ```vehicles_v9_df['posting_date'] = '2021-04-19'```\n",
    "    - date taken from version timestamp at [link](https://www.kaggle.com/austinreese/craigslist-carstrucks-data/version/9)\n",
    "\n",
    "<span style='color:cyan'>reminder that v10 already has a 'posting_date' value for nearly all entries but the time needs to be stripped to include only the date</span>"
   ],
   "metadata": {}
  }
 ],
 "metadata": {
  "orig_nbformat": 4,
  "language_info": {
   "name": "python",
   "version": "3.8.8",
   "mimetype": "text/x-python",
   "codemirror_mode": {
    "name": "ipython",
    "version": 3
   },
   "pygments_lexer": "ipython3",
   "nbconvert_exporter": "python",
   "file_extension": ".py"
  },
  "kernelspec": {
   "name": "python3",
   "display_name": "Python 3.8.8 64-bit ('PyViz': conda)"
  },
  "interpreter": {
   "hash": "2cee6143c01626440da4de5fd7551af32d1b874c0d79c2a9f916ab53b14c1cd6"
  }
 },
 "nbformat": 4,
 "nbformat_minor": 2
}