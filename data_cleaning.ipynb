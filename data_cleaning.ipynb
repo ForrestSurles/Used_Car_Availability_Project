{
 "cells": [
  {
   "cell_type": "code",
   "execution_count": 2,
   "source": [
    "import pandas as pd\n",
    "from pathlib import Path"
   ],
   "outputs": [],
   "metadata": {}
  },
  {
   "cell_type": "code",
   "execution_count": 3,
   "source": [
    "csvpath = Path('./Resources/raw_data_combined.csv')"
   ],
   "outputs": [],
   "metadata": {}
  },
  {
   "cell_type": "code",
   "execution_count": 4,
   "source": [
    "combined_df = pd.read_csv(\n",
    "    csvpath,\n",
    "    index_col='uid'\n",
    ")"
   ],
   "outputs": [
    {
     "output_type": "stream",
     "name": "stderr",
     "text": [
      "C:\\Users\\fsurl\\.conda\\envs\\PyViz\\lib\\site-packages\\IPython\\core\\interactiveshell.py:3165: DtypeWarning: Columns (1,5,21,22,23) have mixed types.Specify dtype option on import or set low_memory=False.\n",
      "  has_raised = await self.run_ast_nodes(code_ast.body, cell_name,\n",
      "C:\\Users\\fsurl\\.conda\\envs\\PyViz\\lib\\site-packages\\numpy\\lib\\arraysetops.py:583: FutureWarning: elementwise comparison failed; returning scalar instead, but in the future will perform elementwise comparison\n",
      "  mask |= (ar1 == a)\n"
     ]
    }
   ],
   "metadata": {}
  },
  {
   "cell_type": "code",
   "execution_count": 7,
   "source": [
    "combined_df.isnull().mean()"
   ],
   "outputs": [
    {
     "output_type": "execute_result",
     "data": {
      "text/plain": [
       "city            0.342211\n",
       "price           0.000000\n",
       "year            0.001723\n",
       "manufacturer    0.058385\n",
       "make            0.362595\n",
       "condition       0.425011\n",
       "cylinders       0.410978\n",
       "fuel            0.008534\n",
       "odometer        0.173429\n",
       "title_status    0.010567\n",
       "transmission    0.007708\n",
       "VIN             0.475737\n",
       "drive           0.326375\n",
       "size            0.679520\n",
       "type            0.300067\n",
       "paint_color     0.341522\n",
       "lat             0.008621\n",
       "long            0.008621\n",
       "uid.1           0.000000\n",
       "posting_date    0.000027\n",
       "desc            0.267202\n",
       "region          0.657789\n",
       "model           0.661974\n",
       "dtype: float64"
      ]
     },
     "metadata": {},
     "execution_count": 7
    }
   ],
   "metadata": {}
  },
  {
   "cell_type": "code",
   "execution_count": 11,
   "source": [
    "print(combined_df['lat'].isnull().sum())\n",
    "print(combined_df['long'].isnull().sum())\n",
    "print(combined_df['price'].isnull().sum())\n",
    "print(combined_df['make'].isnull().sum())\n",
    "print(combined_df['condition'].isnull().sum())\n",
    "print(combined_df['manufacturer'].isnull().sum())"
   ],
   "outputs": [
    {
     "output_type": "stream",
     "name": "stdout",
     "text": [
      "21874\n",
      "21874\n",
      "0\n",
      "919997\n",
      "1078362\n",
      "148138\n"
     ]
    }
   ],
   "metadata": {}
  },
  {
   "cell_type": "markdown",
   "source": [
    "# Assumptions made / Next steps"
   ],
   "metadata": {}
  },
  {
   "cell_type": "markdown",
   "source": [
    "1. Based upon combination of **year** & **odometer** reading make assupmtion on condition to fill in the ~43% of entries missing a condition\n",
    "    - Condition Framework\n",
    "        - If older year and high mileage\n",
    "            - condition = oldest (worst)\n",
    "        - If newer year and low mileage\n",
    "            - condition = newest (best)\n",
    "        - in between? (good vs fair) (std/variance)\n",
    "2. Both make/manufacturer blank?\n",
    "3. Need to drop non-continental 48\n",
    "\n",
    "Forrest: parsing/categorizing the odometer for condition\n",
    "\n",
    "Vish: parsing desc to help fill in missing make values"
   ],
   "metadata": {}
  },
  {
   "cell_type": "code",
   "execution_count": 16,
   "source": [
    "no_make_manu_df = combined_df.loc[\n",
    "    combined_df['make'] ==  &\n",
    "    combined_df['manufacturer'] == \n",
    "]"
   ],
   "outputs": [
    {
     "output_type": "error",
     "ename": "NameError",
     "evalue": "name 'NaN' is not defined",
     "traceback": [
      "\u001b[1;31m---------------------------------------------------------------------------\u001b[0m",
      "\u001b[1;31mNameError\u001b[0m                                 Traceback (most recent call last)",
      "\u001b[1;32m<ipython-input-16-9b126103e525>\u001b[0m in \u001b[0;36m<module>\u001b[1;34m\u001b[0m\n\u001b[0;32m      1\u001b[0m no_make_manu_df = combined_df.loc[\n\u001b[1;32m----> 2\u001b[1;33m     \u001b[0mcombined_df\u001b[0m\u001b[1;33m[\u001b[0m\u001b[1;34m'make'\u001b[0m\u001b[1;33m]\u001b[0m \u001b[1;33m==\u001b[0m \u001b[0mNaN\u001b[0m \u001b[1;33m&\u001b[0m\u001b[1;33m\u001b[0m\u001b[1;33m\u001b[0m\u001b[0m\n\u001b[0m\u001b[0;32m      3\u001b[0m     \u001b[0mcombined_df\u001b[0m\u001b[1;33m[\u001b[0m\u001b[1;34m'manufacturer'\u001b[0m\u001b[1;33m]\u001b[0m \u001b[1;33m==\u001b[0m \u001b[0mNaN\u001b[0m\u001b[1;33m\u001b[0m\u001b[1;33m\u001b[0m\u001b[0m\n\u001b[0;32m      4\u001b[0m ]\n",
      "\u001b[1;31mNameError\u001b[0m: name 'NaN' is not defined"
     ]
    }
   ],
   "metadata": {}
  },
  {
   "cell_type": "code",
   "execution_count": null,
   "source": [],
   "outputs": [],
   "metadata": {}
  }
 ],
 "metadata": {
  "orig_nbformat": 4,
  "language_info": {
   "name": "python",
   "version": "3.8.8",
   "mimetype": "text/x-python",
   "codemirror_mode": {
    "name": "ipython",
    "version": 3
   },
   "pygments_lexer": "ipython3",
   "nbconvert_exporter": "python",
   "file_extension": ".py"
  },
  "kernelspec": {
   "name": "python3",
   "display_name": "Python 3.8.8 64-bit ('PyViz': conda)"
  },
  "interpreter": {
   "hash": "2cee6143c01626440da4de5fd7551af32d1b874c0d79c2a9f916ab53b14c1cd6"
  }
 },
 "nbformat": 4,
 "nbformat_minor": 2
}