{
 "cells": [
  {
   "cell_type": "markdown",
   "source": [
    "# Parse the Description Column for Filling in Missing Data"
   ],
   "metadata": {}
  },
  {
   "cell_type": "markdown",
   "source": [
    "## <font color=MediumSlateBlue>1) Import Libraries & File</font>"
   ],
   "metadata": {}
  },
  {
   "cell_type": "code",
   "execution_count": 1,
   "source": [
    "import pandas as pd\n",
    "from pathlib import Path"
   ],
   "outputs": [],
   "metadata": {}
  },
  {
   "cell_type": "markdown",
   "source": [],
   "metadata": {}
  }
 ],
 "metadata": {
  "orig_nbformat": 4,
  "language_info": {
   "name": "python",
   "version": "3.8.8",
   "mimetype": "text/x-python",
   "codemirror_mode": {
    "name": "ipython",
    "version": 3
   },
   "pygments_lexer": "ipython3",
   "nbconvert_exporter": "python",
   "file_extension": ".py"
  },
  "kernelspec": {
   "name": "python3",
   "display_name": "Python 3.8.8 64-bit ('SQL': conda)"
  },
  "interpreter": {
   "hash": "b7c9cf3d499d6c4c34b9783c2080ab3fb638343c34812a69f25a4ae2454107a2"
  }
 },
 "nbformat": 4,
 "nbformat_minor": 2
}